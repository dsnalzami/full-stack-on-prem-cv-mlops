{
 "cells": [
  {
   "cell_type": "code",
   "execution_count": 1,
   "id": "342c4105-1ba1-4a29-b25d-644a096a9721",
   "metadata": {},
   "outputs": [],
   "source": [
    "import shutil\n",
    "import pandas as pd\n",
    "import numpy as np\n",
    "import tensorflow as tf\n",
    "import seaborn as sns\n",
    "import matplotlib.pyplot as plt"
   ]
  },
  {
   "cell_type": "code",
   "execution_count": null,
   "id": "8ee3924c-315e-49c9-a7eb-6c5c46cb89d2",
   "metadata": {},
   "outputs": [],
   "source": []
  },
  {
   "cell_type": "code",
   "execution_count": 6,
   "id": "d64346ea-ba1d-446a-b992-2acac2bcbffb",
   "metadata": {},
   "outputs": [],
   "source": [
    "from tensorflow.keras.models import load_model, Model\n",
    "from tasks.utils.tf_data_utils import build_data_pipeline"
   ]
  },
  {
   "cell_type": "code",
   "execution_count": 7,
   "id": "aeaa647e-e085-4336-8663-2c9852387891",
   "metadata": {},
   "outputs": [],
   "source": [
    "def load_saved_model(model_path: str):\n",
    "    model = load_model(model_path)\n",
    "    return model"
   ]
  },
  {
   "cell_type": "code",
   "execution_count": 8,
   "id": "55b57382-dcc5-4fd0-909d-ba01aead7fa0",
   "metadata": {},
   "outputs": [],
   "source": [
    "model = load_saved_model('/home/ariya/workspace/models/animals10_classifier_second')"
   ]
  },
  {
   "cell_type": "code",
   "execution_count": 105,
   "id": "f89abe7b-45e3-4768-80a5-5d789ee663c2",
   "metadata": {},
   "outputs": [],
   "source": [
    "annotation_df = pd.read_csv('/home/ariya/workspace/datasets/animals10-dvc/annotation_df.csv')\n",
    "classes = [\"butterfly\", \"cat\", \"chicken\", \"cow\", \"dog\", \n",
    "        \"elephant\", \"horse\", \"sheep\", \"spider\", \"squirrel\"]\n",
    "img_size = [50,50]\n",
    "batch_size = 1\n",
    "\n",
    "test_ds = build_data_pipeline(annotation_df, classes, 'test', img_size, batch_size, \n",
    "                                do_augment=False, augmenter=None)\n",
    "y_true_bin = np.concatenate([y for _, y in test_ds], axis=0)\n",
    "y_true = np.argmax(y_true_bin, axis=1)"
   ]
  },
  {
   "cell_type": "code",
   "execution_count": 106,
   "id": "4538a217-d914-4c4b-8e34-46f84c5ca999",
   "metadata": {},
   "outputs": [
    {
     "name": "stdout",
     "output_type": "stream",
     "text": [
      "2618/2618 [==============================] - 10s 4ms/step\n"
     ]
    }
   ],
   "source": [
    "y_pred_prob = model.predict(test_ds)"
   ]
  },
  {
   "cell_type": "code",
   "execution_count": 107,
   "id": "9149d127-f70d-4be6-94ad-aae997a39a86",
   "metadata": {},
   "outputs": [],
   "source": [
    "y_pred = tf.argmax(y_pred_prob, axis=1)"
   ]
  },
  {
   "cell_type": "code",
   "execution_count": 108,
   "id": "da8caa08-4ef9-4f02-93b0-c8fcf0f0189f",
   "metadata": {},
   "outputs": [
    {
     "data": {
      "text/plain": [
       "((2618,), TensorShape([2618]))"
      ]
     },
     "execution_count": 108,
     "metadata": {},
     "output_type": "execute_result"
    }
   ],
   "source": [
    "y_true.shape, y_pred.shape"
   ]
  },
  {
   "cell_type": "code",
   "execution_count": null,
   "id": "4c83fb09-3ed4-47d8-8241-ec457826f559",
   "metadata": {},
   "outputs": [],
   "source": []
  },
  {
   "cell_type": "code",
   "execution_count": 13,
   "id": "7a090ebb-6363-4fdc-aa9e-09f7fb6dba4a",
   "metadata": {},
   "outputs": [],
   "source": []
  },
  {
   "cell_type": "code",
   "execution_count": 6,
   "id": "93c01e3b-7dd2-45d1-bda2-09081d0667cf",
   "metadata": {},
   "outputs": [],
   "source": [
    "classes = [\"butterfly\", \"cat\", \"chicken\", \"cow\", \"dog\", \n",
    "        \"elephant\", \"horse\", \"sheep\", \"spider\", \"squirrel\"]\n",
    "img_size = [50,50]\n",
    "batch_size = 1"
   ]
  },
  {
   "cell_type": "code",
   "execution_count": 7,
   "id": "c0395eee-1fd4-4b73-9e15-d4cc8706d0e9",
   "metadata": {},
   "outputs": [],
   "source": [
    "# mock up multi-label pred\n",
    "y_pred_prob = np.random.rand(10,10)\n",
    "y_pred = (y_pred_prob > 0.7).astype(np.int8)\n",
    "y_true = (y_pred_prob > 0.5).astype(np.int8)"
   ]
  },
  {
   "cell_type": "code",
   "execution_count": 8,
   "id": "a98dc80e-fc03-43b1-85f5-ae0e458df621",
   "metadata": {},
   "outputs": [],
   "source": [
    "from sklearn.metrics import confusion_matrix, classification_report, precision_score, recall_score, f1_score, roc_auc_score"
   ]
  },
  {
   "cell_type": "code",
   "execution_count": 9,
   "id": "c6d8ed6c-b49f-4bdc-9be3-d96e4c462e04",
   "metadata": {
    "collapsed": true,
    "jupyter": {
     "outputs_hidden": true
    }
   },
   "outputs": [
    {
     "name": "stderr",
     "output_type": "stream",
     "text": [
      "/opt/anaconda3/envs/computer-viz-dl/lib/python3.9/site-packages/sklearn/metrics/_classification.py:1248: UndefinedMetricWarning: Precision and F-score are ill-defined and being set to 0.0 in labels with no predicted samples. Use `zero_division` parameter to control this behavior.\n",
      "  _warn_prf(average, modifier, msg_start, len(result))\n"
     ]
    },
    {
     "data": {
      "text/html": [
       "<div>\n",
       "<style scoped>\n",
       "    .dataframe tbody tr th:only-of-type {\n",
       "        vertical-align: middle;\n",
       "    }\n",
       "\n",
       "    .dataframe tbody tr th {\n",
       "        vertical-align: top;\n",
       "    }\n",
       "\n",
       "    .dataframe thead th {\n",
       "        text-align: right;\n",
       "    }\n",
       "</style>\n",
       "<table border=\"1\" class=\"dataframe\">\n",
       "  <thead>\n",
       "    <tr style=\"text-align: right;\">\n",
       "      <th></th>\n",
       "      <th>precision</th>\n",
       "      <th>recall</th>\n",
       "      <th>f1-score</th>\n",
       "      <th>support</th>\n",
       "      <th>AUC</th>\n",
       "    </tr>\n",
       "  </thead>\n",
       "  <tbody>\n",
       "    <tr>\n",
       "      <th>butterfly</th>\n",
       "      <td>1.000000</td>\n",
       "      <td>1.000000</td>\n",
       "      <td>1.000000</td>\n",
       "      <td>3.0</td>\n",
       "      <td>1.0</td>\n",
       "    </tr>\n",
       "    <tr>\n",
       "      <th>cat</th>\n",
       "      <td>0.000000</td>\n",
       "      <td>0.000000</td>\n",
       "      <td>0.000000</td>\n",
       "      <td>2.0</td>\n",
       "      <td>1.0</td>\n",
       "    </tr>\n",
       "    <tr>\n",
       "      <th>chicken</th>\n",
       "      <td>1.000000</td>\n",
       "      <td>0.857143</td>\n",
       "      <td>0.923077</td>\n",
       "      <td>7.0</td>\n",
       "      <td>1.0</td>\n",
       "    </tr>\n",
       "    <tr>\n",
       "      <th>cow</th>\n",
       "      <td>1.000000</td>\n",
       "      <td>0.400000</td>\n",
       "      <td>0.571429</td>\n",
       "      <td>5.0</td>\n",
       "      <td>1.0</td>\n",
       "    </tr>\n",
       "    <tr>\n",
       "      <th>dog</th>\n",
       "      <td>1.000000</td>\n",
       "      <td>0.600000</td>\n",
       "      <td>0.750000</td>\n",
       "      <td>5.0</td>\n",
       "      <td>1.0</td>\n",
       "    </tr>\n",
       "    <tr>\n",
       "      <th>elephant</th>\n",
       "      <td>1.000000</td>\n",
       "      <td>0.571429</td>\n",
       "      <td>0.727273</td>\n",
       "      <td>7.0</td>\n",
       "      <td>1.0</td>\n",
       "    </tr>\n",
       "    <tr>\n",
       "      <th>horse</th>\n",
       "      <td>1.000000</td>\n",
       "      <td>0.600000</td>\n",
       "      <td>0.750000</td>\n",
       "      <td>5.0</td>\n",
       "      <td>1.0</td>\n",
       "    </tr>\n",
       "    <tr>\n",
       "      <th>sheep</th>\n",
       "      <td>1.000000</td>\n",
       "      <td>0.600000</td>\n",
       "      <td>0.750000</td>\n",
       "      <td>5.0</td>\n",
       "      <td>1.0</td>\n",
       "    </tr>\n",
       "    <tr>\n",
       "      <th>spider</th>\n",
       "      <td>1.000000</td>\n",
       "      <td>1.000000</td>\n",
       "      <td>1.000000</td>\n",
       "      <td>2.0</td>\n",
       "      <td>1.0</td>\n",
       "    </tr>\n",
       "    <tr>\n",
       "      <th>squirrel</th>\n",
       "      <td>1.000000</td>\n",
       "      <td>0.666667</td>\n",
       "      <td>0.800000</td>\n",
       "      <td>6.0</td>\n",
       "      <td>1.0</td>\n",
       "    </tr>\n",
       "    <tr>\n",
       "      <th>micro avg</th>\n",
       "      <td>1.000000</td>\n",
       "      <td>0.638298</td>\n",
       "      <td>0.779221</td>\n",
       "      <td>47.0</td>\n",
       "      <td>NaN</td>\n",
       "    </tr>\n",
       "    <tr>\n",
       "      <th>macro avg</th>\n",
       "      <td>0.900000</td>\n",
       "      <td>0.629524</td>\n",
       "      <td>0.727178</td>\n",
       "      <td>47.0</td>\n",
       "      <td>NaN</td>\n",
       "    </tr>\n",
       "    <tr>\n",
       "      <th>weighted avg</th>\n",
       "      <td>0.957447</td>\n",
       "      <td>0.638298</td>\n",
       "      <td>0.754459</td>\n",
       "      <td>47.0</td>\n",
       "      <td>NaN</td>\n",
       "    </tr>\n",
       "    <tr>\n",
       "      <th>samples avg</th>\n",
       "      <td>1.000000</td>\n",
       "      <td>0.659286</td>\n",
       "      <td>0.771429</td>\n",
       "      <td>47.0</td>\n",
       "      <td>NaN</td>\n",
       "    </tr>\n",
       "  </tbody>\n",
       "</table>\n",
       "</div>"
      ],
      "text/plain": [
       "              precision    recall  f1-score  support  AUC\n",
       "butterfly      1.000000  1.000000  1.000000      3.0  1.0\n",
       "cat            0.000000  0.000000  0.000000      2.0  1.0\n",
       "chicken        1.000000  0.857143  0.923077      7.0  1.0\n",
       "cow            1.000000  0.400000  0.571429      5.0  1.0\n",
       "dog            1.000000  0.600000  0.750000      5.0  1.0\n",
       "elephant       1.000000  0.571429  0.727273      7.0  1.0\n",
       "horse          1.000000  0.600000  0.750000      5.0  1.0\n",
       "sheep          1.000000  0.600000  0.750000      5.0  1.0\n",
       "spider         1.000000  1.000000  1.000000      2.0  1.0\n",
       "squirrel       1.000000  0.666667  0.800000      6.0  1.0\n",
       "micro avg      1.000000  0.638298  0.779221     47.0  NaN\n",
       "macro avg      0.900000  0.629524  0.727178     47.0  NaN\n",
       "weighted avg   0.957447  0.638298  0.754459     47.0  NaN\n",
       "samples avg    1.000000  0.659286  0.771429     47.0  NaN"
      ]
     },
     "execution_count": 9,
     "metadata": {},
     "output_type": "execute_result"
    }
   ],
   "source": [
    "# Calculate precision, recall, f1-score\n",
    "type = 'multi-label'\n",
    "if type == 'multi-class':\n",
    "    \n",
    "    # Create a confusion matrix\n",
    "    conf_matrix = confusion_matrix(y_true, y_pred)\n",
    "    \n",
    "    # Plot the confusion matrix\n",
    "    fig = plt.figure(figsize=(8, 6))\n",
    "    sns.heatmap(conf_matrix, annot=True, fmt=\"d\", cmap=\"Blues\", cbar=True,\n",
    "               xticklabels=classes, yticklabels=classes)\n",
    "    plt.xlabel('Predicted')\n",
    "    plt.ylabel('Ground Truth')\n",
    "    plt.title('Confusion Matrix')\n",
    "    plt.show()\n",
    "    \n",
    "    # Calculate AUC\n",
    "    roc_auc = roc_auc_score(y_true, y_pred_prob, average='macro', multi_class='ovr')\n",
    "    \n",
    "    # Print classification report\n",
    "    report = classification_report(y_true, y_pred, target_names=classes, output_dict=True)\n",
    "    final_report = pd.DataFrame(report).T\n",
    "    print('AUC:', roc_auc)\n",
    "    \n",
    "elif type == 'multi-label':\n",
    "    \n",
    "    roc_auc = roc_auc_score(y_true, y_pred_prob, average=None, multi_class='ovr')\n",
    "    \n",
    "    # Print classification report\n",
    "    report = classification_report(y_true, y_pred, target_names=classes, output_dict=True)\n",
    "    final_report = pd.DataFrame(report).T\n",
    "    final_report['AUC'] = list(roc_auc) + (4*[None])\n",
    "\n",
    "final_report    "
   ]
  },
  {
   "cell_type": "code",
   "execution_count": 13,
   "id": "af2d9f7d-67f3-4870-b967-8dbdbbfaceb8",
   "metadata": {},
   "outputs": [
    {
     "data": {
      "text/html": [
       "<div>\n",
       "<style scoped>\n",
       "    .dataframe tbody tr th:only-of-type {\n",
       "        vertical-align: middle;\n",
       "    }\n",
       "\n",
       "    .dataframe tbody tr th {\n",
       "        vertical-align: top;\n",
       "    }\n",
       "\n",
       "    .dataframe thead th {\n",
       "        text-align: right;\n",
       "    }\n",
       "</style>\n",
       "<table border=\"1\" class=\"dataframe\">\n",
       "  <thead>\n",
       "    <tr style=\"text-align: right;\">\n",
       "      <th></th>\n",
       "      <th>index</th>\n",
       "      <th>precision</th>\n",
       "      <th>recall</th>\n",
       "      <th>f1-score</th>\n",
       "      <th>support</th>\n",
       "      <th>AUC</th>\n",
       "    </tr>\n",
       "  </thead>\n",
       "  <tbody>\n",
       "    <tr>\n",
       "      <th>0</th>\n",
       "      <td>butterfly</td>\n",
       "      <td>1.000000</td>\n",
       "      <td>1.000000</td>\n",
       "      <td>1.000000</td>\n",
       "      <td>3.0</td>\n",
       "      <td>1.0</td>\n",
       "    </tr>\n",
       "    <tr>\n",
       "      <th>1</th>\n",
       "      <td>cat</td>\n",
       "      <td>0.000000</td>\n",
       "      <td>0.000000</td>\n",
       "      <td>0.000000</td>\n",
       "      <td>2.0</td>\n",
       "      <td>1.0</td>\n",
       "    </tr>\n",
       "    <tr>\n",
       "      <th>2</th>\n",
       "      <td>chicken</td>\n",
       "      <td>1.000000</td>\n",
       "      <td>0.857143</td>\n",
       "      <td>0.923077</td>\n",
       "      <td>7.0</td>\n",
       "      <td>1.0</td>\n",
       "    </tr>\n",
       "    <tr>\n",
       "      <th>3</th>\n",
       "      <td>cow</td>\n",
       "      <td>1.000000</td>\n",
       "      <td>0.400000</td>\n",
       "      <td>0.571429</td>\n",
       "      <td>5.0</td>\n",
       "      <td>1.0</td>\n",
       "    </tr>\n",
       "    <tr>\n",
       "      <th>4</th>\n",
       "      <td>dog</td>\n",
       "      <td>1.000000</td>\n",
       "      <td>0.600000</td>\n",
       "      <td>0.750000</td>\n",
       "      <td>5.0</td>\n",
       "      <td>1.0</td>\n",
       "    </tr>\n",
       "    <tr>\n",
       "      <th>5</th>\n",
       "      <td>elephant</td>\n",
       "      <td>1.000000</td>\n",
       "      <td>0.571429</td>\n",
       "      <td>0.727273</td>\n",
       "      <td>7.0</td>\n",
       "      <td>1.0</td>\n",
       "    </tr>\n",
       "    <tr>\n",
       "      <th>6</th>\n",
       "      <td>horse</td>\n",
       "      <td>1.000000</td>\n",
       "      <td>0.600000</td>\n",
       "      <td>0.750000</td>\n",
       "      <td>5.0</td>\n",
       "      <td>1.0</td>\n",
       "    </tr>\n",
       "    <tr>\n",
       "      <th>7</th>\n",
       "      <td>sheep</td>\n",
       "      <td>1.000000</td>\n",
       "      <td>0.600000</td>\n",
       "      <td>0.750000</td>\n",
       "      <td>5.0</td>\n",
       "      <td>1.0</td>\n",
       "    </tr>\n",
       "    <tr>\n",
       "      <th>8</th>\n",
       "      <td>spider</td>\n",
       "      <td>1.000000</td>\n",
       "      <td>1.000000</td>\n",
       "      <td>1.000000</td>\n",
       "      <td>2.0</td>\n",
       "      <td>1.0</td>\n",
       "    </tr>\n",
       "    <tr>\n",
       "      <th>9</th>\n",
       "      <td>squirrel</td>\n",
       "      <td>1.000000</td>\n",
       "      <td>0.666667</td>\n",
       "      <td>0.800000</td>\n",
       "      <td>6.0</td>\n",
       "      <td>1.0</td>\n",
       "    </tr>\n",
       "    <tr>\n",
       "      <th>10</th>\n",
       "      <td>micro avg</td>\n",
       "      <td>1.000000</td>\n",
       "      <td>0.638298</td>\n",
       "      <td>0.779221</td>\n",
       "      <td>47.0</td>\n",
       "      <td>NaN</td>\n",
       "    </tr>\n",
       "    <tr>\n",
       "      <th>11</th>\n",
       "      <td>macro avg</td>\n",
       "      <td>0.900000</td>\n",
       "      <td>0.629524</td>\n",
       "      <td>0.727178</td>\n",
       "      <td>47.0</td>\n",
       "      <td>NaN</td>\n",
       "    </tr>\n",
       "    <tr>\n",
       "      <th>12</th>\n",
       "      <td>weighted avg</td>\n",
       "      <td>0.957447</td>\n",
       "      <td>0.638298</td>\n",
       "      <td>0.754459</td>\n",
       "      <td>47.0</td>\n",
       "      <td>NaN</td>\n",
       "    </tr>\n",
       "    <tr>\n",
       "      <th>13</th>\n",
       "      <td>samples avg</td>\n",
       "      <td>1.000000</td>\n",
       "      <td>0.659286</td>\n",
       "      <td>0.771429</td>\n",
       "      <td>47.0</td>\n",
       "      <td>NaN</td>\n",
       "    </tr>\n",
       "  </tbody>\n",
       "</table>\n",
       "</div>"
      ],
      "text/plain": [
       "           index  precision    recall  f1-score  support  AUC\n",
       "0      butterfly   1.000000  1.000000  1.000000      3.0  1.0\n",
       "1            cat   0.000000  0.000000  0.000000      2.0  1.0\n",
       "2        chicken   1.000000  0.857143  0.923077      7.0  1.0\n",
       "3            cow   1.000000  0.400000  0.571429      5.0  1.0\n",
       "4            dog   1.000000  0.600000  0.750000      5.0  1.0\n",
       "5       elephant   1.000000  0.571429  0.727273      7.0  1.0\n",
       "6          horse   1.000000  0.600000  0.750000      5.0  1.0\n",
       "7          sheep   1.000000  0.600000  0.750000      5.0  1.0\n",
       "8         spider   1.000000  1.000000  1.000000      2.0  1.0\n",
       "9       squirrel   1.000000  0.666667  0.800000      6.0  1.0\n",
       "10     micro avg   1.000000  0.638298  0.779221     47.0  NaN\n",
       "11     macro avg   0.900000  0.629524  0.727178     47.0  NaN\n",
       "12  weighted avg   0.957447  0.638298  0.754459     47.0  NaN\n",
       "13   samples avg   1.000000  0.659286  0.771429     47.0  NaN"
      ]
     },
     "execution_count": 13,
     "metadata": {},
     "output_type": "execute_result"
    }
   ],
   "source": [
    "final_report.reset_index()"
   ]
  },
  {
   "cell_type": "code",
   "execution_count": null,
   "id": "f4189c2a-21dd-4ef4-a234-021d4178cad9",
   "metadata": {},
   "outputs": [],
   "source": []
  },
  {
   "cell_type": "code",
   "execution_count": 114,
   "id": "18bc4e4f-0ef8-4bc4-b543-d145b8569292",
   "metadata": {},
   "outputs": [
    {
     "data": {
      "text/plain": [
       "True"
      ]
     },
     "execution_count": 114,
     "metadata": {},
     "output_type": "execute_result"
    }
   ],
   "source": [
    "isinstance(roc_auc, float)"
   ]
  },
  {
   "cell_type": "code",
   "execution_count": null,
   "id": "2d7f8395-a81e-4a32-9373-4568084f99c5",
   "metadata": {},
   "outputs": [],
   "source": []
  },
  {
   "cell_type": "code",
   "execution_count": 1,
   "id": "019cc686-99e4-4e72-8893-a7fc7f74b237",
   "metadata": {},
   "outputs": [],
   "source": [
    "from importlib import import_module"
   ]
  },
  {
   "cell_type": "code",
   "execution_count": 2,
   "id": "1abf9458-6da1-4391-ad45-07d78bede75f",
   "metadata": {},
   "outputs": [],
   "source": [
    "mod = import_module('flows.full_flow', package='flows')"
   ]
  },
  {
   "cell_type": "code",
   "execution_count": 3,
   "id": "e6275577-cbad-46f5-92c4-17ae107bbd23",
   "metadata": {},
   "outputs": [
    {
     "name": "stdout",
     "output_type": "stream",
     "text": [
      "Hi Mom!\n",
      "added eiei\n"
     ]
    }
   ],
   "source": [
    "mod.start({'add_text': 'eiei'})"
   ]
  },
  {
   "cell_type": "markdown",
   "id": "05dbe3a8-6ecb-4d94-8edc-d208e1df38a4",
   "metadata": {},
   "source": [
    "---"
   ]
  },
  {
   "cell_type": "code",
   "execution_count": null,
   "id": "8436f7cd-3996-49ab-a679-54a79a56a00f",
   "metadata": {},
   "outputs": [],
   "source": []
  },
  {
   "cell_type": "code",
   "execution_count": 71,
   "id": "ee78406d-f323-4fd3-ac4c-1a76303921aa",
   "metadata": {},
   "outputs": [],
   "source": [
    "import os\n",
    "import cv2\n",
    "import base64\n",
    "import numpy as np\n",
    "import requests\n",
    "import random\n",
    "import matplotlib.pyplot as plt\n",
    "from io import BytesIO\n",
    "from PIL import Image"
   ]
  },
  {
   "cell_type": "code",
   "execution_count": 72,
   "id": "c1f476d3-c376-48ff-b2d4-5e4a8875a2cb",
   "metadata": {},
   "outputs": [
    {
     "name": "stdout",
     "output_type": "stream",
     "text": [
      "ea35b80a2ef1043ed1584d05fb1d4e9fe777ead218ac104497f5c97faeebb5bb_640.jpg\n"
     ]
    }
   ],
   "source": [
    "img_root = '/home/ariya/workspace/datasets/animals10-dvc/images'\n",
    "img_class = 'butterfly'\n",
    "img_dir = os.path.join(img_root, img_class)\n",
    "img_file = random.choice(os.listdir(img_dir))\n",
    "print(img_file)\n",
    "img_path = os.path.join(img_dir, img_file)"
   ]
  },
  {
   "cell_type": "code",
   "execution_count": 83,
   "id": "d368b15d-3a58-4fe6-b873-fd210164d57f",
   "metadata": {},
   "outputs": [],
   "source": [
    "ori_image = cv2.imread(img_path)"
   ]
  },
  {
   "cell_type": "code",
   "execution_count": 73,
   "id": "e998d8be-7027-4356-85fc-f07b57871a18",
   "metadata": {},
   "outputs": [
    {
     "name": "stdout",
     "output_type": "stream",
     "text": [
      "{'message': 'No model. You have to setup model with the /update_model endpoint first.'}\n"
     ]
    }
   ],
   "source": [
    "res = requests.post('http://127.0.0.1:4242/predict/',\n",
    "                    files={'item':open(img_path, 'rb')}\n",
    "                    )\n",
    "print(res.json())"
   ]
  },
  {
   "cell_type": "code",
   "execution_count": 74,
   "id": "0d7a8d65-64da-4bc8-bad4-d63adb30c27c",
   "metadata": {},
   "outputs": [
    {
     "name": "stdout",
     "output_type": "stream",
     "text": [
      "{'message': 'Updating model failed due to failure in model loading method'}\n"
     ]
    }
   ],
   "source": [
    "res = requests.put('http://127.0.0.1:4242/update_model/animals10_classifierXD.yaml')\n",
    "print(res.json())"
   ]
  },
  {
   "cell_type": "code",
   "execution_count": 75,
   "id": "852006fb-90fc-4a63-837e-47bf062cf6a6",
   "metadata": {},
   "outputs": [
    {
     "name": "stdout",
     "output_type": "stream",
     "text": [
      "{'message': 'Update the model successfully'}\n"
     ]
    }
   ],
   "source": [
    "res = requests.put('http://127.0.0.1:4242/update_model/animals10_classifier.yaml')\n",
    "print(res.json())"
   ]
  },
  {
   "cell_type": "code",
   "execution_count": 78,
   "id": "84cbe47b-5c85-41bf-987f-958b1b5fa00b",
   "metadata": {},
   "outputs": [
    {
     "data": {
      "text/plain": [
       "dict_keys(['prediction', 'overlaid_img', 'raw_hm_img', 'message'])"
      ]
     },
     "execution_count": 78,
     "metadata": {},
     "output_type": "execute_result"
    }
   ],
   "source": [
    "res = requests.post('http://127.0.0.1:4242/predict/',\n",
    "                    files={'item':open(img_path, 'rb')}\n",
    "                    )\n",
    "res = res.json()\n",
    "res.keys()"
   ]
  },
  {
   "cell_type": "code",
   "execution_count": 79,
   "id": "b99e3c8c-a1b4-4dbb-b286-60ec4f1af9d3",
   "metadata": {},
   "outputs": [
    {
     "data": {
      "text/plain": [
       "{'prediction': {'butterfly': 0.969391942024231,\n",
       "  'cat': 0.00346136512234807,\n",
       "  'chicken': 5.091017374070361e-05,\n",
       "  'cow': 3.8311532080115285e-06,\n",
       "  'dog': 0.0029960433021187782,\n",
       "  'elephant': 9.680839951897724e-08,\n",
       "  'horse': 6.2787119532004e-05,\n",
       "  'sheep': 3.5267048588139005e-06,\n",
       "  'spider': 0.023964786902070045,\n",
       "  'squirrel': 6.465009937528521e-05},\n",
       " 'message': 'Success'}"
      ]
     },
     "execution_count": 79,
     "metadata": {},
     "output_type": "execute_result"
    }
   ],
   "source": [
    "raw_hm_bytes = res.pop('raw_hm_img')\n",
    "overlaid_hm_bytes = res.pop('overlaid_img')\n",
    "res"
   ]
  }
 ],
 "metadata": {
  "kernelspec": {
   "display_name": "computer-viz-dl",
   "language": "python",
   "name": "computer-viz-dl"
  },
  "language_info": {
   "codemirror_mode": {
    "name": "ipython",
    "version": 3
   },
   "file_extension": ".py",
   "mimetype": "text/x-python",
   "name": "python",
   "nbconvert_exporter": "python",
   "pygments_lexer": "ipython3",
   "version": "3.9.18"
  }
 },
 "nbformat": 4,
 "nbformat_minor": 5
}
